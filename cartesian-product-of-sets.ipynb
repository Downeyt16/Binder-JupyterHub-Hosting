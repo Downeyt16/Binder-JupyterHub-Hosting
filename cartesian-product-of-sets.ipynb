{
 "cells": [
  {
   "cell_type": "markdown",
   "metadata": {},
   "source": [
    "[//]: # (Long-Title: Cartesian Product of Sets: Cross Product of Ordered Pairs, Cartesian Product Operator, and Properties of Cartestian Product.)\n",
    "\n",
    "[//]: # (Short-Title: Cartesian Product of Sets)\n",
    "\n",
    "[//]: # (Keyword: Cartesian Product of Sets)\n",
    "\n",
    "[//]: # (Keyword: Ordered pair)\n",
    "\n",
    "[//]: # (Keyword: Commutativity/ Commutative Law)\n",
    "\n",
    "[//]: # (Keyword: Associativity/ Associative Law)\n",
    "\n",
    "[//]: # (Keyword: Cardinality of Cartesian Product Set)\n",
    "\n",
    "[//]: # (Keyword: Cross Product of Sets)\n",
    "\n"
   ]
  },
  {
   "cell_type": "markdown",
   "metadata": {},
   "source": [
    "## Cartesian Product of Sets\n",
    "\n",
    "We need to first define an ordered pair. <br>\n",
    "\n",
    "An ordered pair $(a,b)$ is simply a pair of objects. The order is which the objects appear in the pair is important.<br>\n",
    "\n",
    "In other words, $(a,b) \\neq (b,a)$. <br>\n",
    "\n",
    "Ordered pairs are also called 2-tuples or sequences. <br>\n",
    "\n",
    "The cartesian product of two sets A and B, denoted A $\\times$ B, is the set of all ordered pairs (a,b) where $a \\in A$ and $b \\in B$. <br> <br>\n",
    "\n",
    "Example: <br>\n",
    "\n",
    "Let $A = \\{1,2,3\\} \\text{ and } B = \\{a,b,c\\}$ <br>\n",
    "\n",
    "$A \\times B = \\{(1,a) , (1,b) , (1,c) , (2,a) , (2,b) , (2,c) , (3,a) , (3,b) , (3,c)\\}$ <br> <br>\n",
    "\n",
    "We create ordered pairs by matching the first element of set A with every element of set B, second element of set A with every element of set B, and so on. <br>\n",
    "\n",
    "Note that in the set $A \\times B$, every element is an ordered pair. <br> <br>\n",
    "\n",
    "Cartesian product operator is not commutative. that is, <br>\n",
    "\n",
    "$A \\times B \\neq B \\times A$ as order is important in ordered pairs. <br> <br>\n",
    "\n",
    "Also, cartesian product is not associative: <br>\n",
    "\n",
    "$(A \\times B) \\times C = A \\times (B \\times C)$ <br>"
   ]
  },
  {
   "cell_type": "markdown",
   "metadata": {},
   "source": [
    "## Cardinality of Cartesian product set\n",
    "\n",
    "Let the cardinality of set $A$ be denoted as $|A|$. <br>\n",
    "\n",
    "Likewise, $|B|$ denotes the cardinality of $B$. <br>\n",
    "\n",
    "The cardinality of $A \\times B$, denoted $|A \\times B|$, is given by: <br>\n",
    "\n",
    "$|A \\times B| = |A| \\cdot |B|$ <br> <br>\n",
    "\n",
    "Example: <br>\n",
    "\n",
    "Let $A = \\{1,2\\} \\text { and } B = \\{a,b,c\\}$ <br>\n",
    "\n",
    "$|A| = 2$ and $|B| = 3$ <br> \n",
    "\n",
    "$A \\times B = \\{(1,a) , (1,b) , (1,c) , (2,a) , (2,b) , (2,c)\\}$ <br>\n",
    "\n",
    "$A \\times B = 2 \\cdot 3 = 6$ <br>\n",
    "\n",
    "In general, if $|A| = m$ and $|B| = n$, then $| A \\times B | = m \\cdot n$ <br> <br>\n",
    "\n",
    "\n",
    "<b>Informal proof</b>\n",
    "\n",
    "Each element in set $A$ is matched with every element in the set $B$. <br>\n",
    "\n",
    "The number of ordered pairs produced is equal to $|B| = n$ <br>\n",
    "\n",
    "Since $|A| = n$, the total number of ordered pairs produced equals $m\\cdot n$ <br>"
   ]
  },
  {
   "cell_type": "code",
   "execution_count": null,
   "metadata": {},
   "outputs": [],
   "source": []
  }
 ],
 "metadata": {
  "celltoolbar": "Edit Metadata",
  "kernelspec": {
   "display_name": "Python 3",
   "language": "python",
   "name": "python3"
  },
  "language_info": {
   "codemirror_mode": {
    "name": "ipython",
    "version": 3
   },
   "file_extension": ".py",
   "mimetype": "text/x-python",
   "name": "python",
   "nbconvert_exporter": "python",
   "pygments_lexer": "ipython3",
   "version": "3.7.3"
  }
 },
 "nbformat": 4,
 "nbformat_minor": 2
}
