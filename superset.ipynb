{
 "cells": [
  {
   "cell_type": "markdown",
   "metadata": {},
   "source": [
    "[//]: # (Long-Title: Superset; Symmetric Complement, Proper Subsets, and Set Equality)\n",
    "\n",
    "[//]: # (Short-Title: Superset)\n",
    "\n",
    "[//]: # (Keyword: Superset)\n",
    "\n",
    "[//]: # (Keyword: Symmetric Complement)\n",
    "\n",
    "[//]: # (Keyword: Proper Subsets)\n",
    "\n",
    "[//]: # (Keyword: Strict Superset)\n",
    "\n",
    "[//]: # (Keyword: Improper Subsets)\n",
    "\n",
    "[//]: # (Keyword: Venn Diagram of Subsets)"
   ]
  },
  {
   "cell_type": "markdown",
   "metadata": {},
   "source": [
    "### Superset\n",
    "\n",
    "The notations $\\supset$ and $\\supseteq$ are symmetric complements of $\\subset$ and $\\subseteq$ <br>\n",
    "\n",
    "They indicate strict/proper superset and superset relationships. <br> <br>\n",
    "\n",
    "Example: <br>\n",
    "\n",
    "$H$ is the set of hexadecimal digits: <br>\n",
    "\n",
    "$H=\\{0,1,2,3, \\ldots,9,A,B,C,D,E,F\\}$ <br>\n",
    "\n",
    "$O$ is the set of octal digits: <br>\n",
    "\n",
    "$O=\\{0,1,2,\\ldots,7\\}$ <br>\n",
    "Since $H$ contains $O$ (all the elements of $O$ are in $H$) and also has additional elements, $H$ is a strict/proper superset of $O$. <br>\n",
    "\n",
    "$H\\supset O$ <br> <br>\n",
    "\n",
    "Example: <br>\n",
    "\n",
    "Let $A=\\{1,2,3,4\\}$ and $B=\\{2,1,4,3\\}$ be two sets. <br>\n",
    "\n",
    "$A\\supseteq B$ since $A$ contains $B$ and $A$ need not have additional elements. <br>\n",
    "\n",
    "Likewise, $B\\supseteq A$. <br>\n",
    "\n",
    "This gives us another way to define set equality. Two sets A and B are equal if and only if A$\\supseteq $B and  $B\\supseteq A$.  <br> <br>\n",
    "\n",
    "Venn Diagrams for depicting subset relationship: <br>\n",
    "\n",
    "The following Venn diagrams depict the $A\\subset B$ relationship <br>\n",
    "<img src=\"F9.png\" alt=\"drawing\" width=\"333px\">"
   ]
  },
  {
   "cell_type": "code",
   "execution_count": null,
   "metadata": {},
   "outputs": [],
   "source": []
  }
 ],
 "metadata": {
  "celltoolbar": "Edit Metadata",
  "kernelspec": {
   "display_name": "Python 3",
   "language": "python",
   "name": "python3"
  },
  "language_info": {
   "codemirror_mode": {
    "name": "ipython",
    "version": 3
   },
   "file_extension": ".py",
   "mimetype": "text/x-python",
   "name": "python",
   "nbconvert_exporter": "python",
   "pygments_lexer": "ipython3",
   "version": "3.7.3"
  }
 },
 "nbformat": 4,
 "nbformat_minor": 2
}
