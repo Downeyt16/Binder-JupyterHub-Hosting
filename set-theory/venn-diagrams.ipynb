{
 "cells": [
  {
   "cell_type": "markdown",
   "metadata": {},
   "source": [
    "[//]: # (Long-Title:Venn Diagrams; Universal Sets, Disjoint Sets, Intersection and Union of Sets )\n",
    "\n",
    "[//]: # (Short-Title: Venn Diagrams)\n",
    "\n",
    "[//]: # (Keyword: Venn Diagrams)\n",
    "\n",
    "[//]: # (Keyword: Set Union)\n",
    "\n",
    "[//]: # (Keyword: Set Intersection)\n",
    "\n",
    "[//]: # (Keyword: Universal Set)\n",
    "\n",
    "[//]: # (Keyword: Disjoint Sets)\n"
   ]
  },
  {
   "cell_type": "markdown",
   "metadata": {},
   "source": [
    "### Venn Diagrams\n",
    "\n",
    "A Venn Diagram is a pictorial notation which is used to depict logical relations between a finite collection of different sets. <br>\n",
    "\n",
    "The universal set is a represented by a rectangle and is labeled as $U$. <br>\n",
    "\n",
    "All sets that are drawn from the universal set, $U$, are represented as circles inside the rectangle. The following diagram depicts set $A$, which is contained in the universal set $U$. <br>\n",
    "\n",
    "<img src=\"F4.png\" alt=\"drawing\" width=\"333px\">\n",
    "\n",
    "The next diagram depicts the two disjoint sets $A$ and $B$. <br>\n",
    "\n",
    "The sets are disjoint if they do not have any common elements.<br>\n",
    "\n",
    "<img src=\"F5.png\" alt=\"drawing\" width=\"333px\">\n",
    "\n",
    "On the other hand, if the sets A and B have same common elements, the corresponding Venn Diagrams to represent the common elements is: <br>\n",
    "\n",
    "<img src=\"F6.png\" alt=\"drawing\" width=\"333px\">\n",
    "\n",
    "The common elements are shown in the shaded area. <br>\n",
    "\n",
    "You will learn more about Venn Diagrams when set operations are discussed. <br>\n",
    "\n",
    "\n"
   ]
  },
  {
   "cell_type": "code",
   "execution_count": null,
   "metadata": {},
   "outputs": [],
   "source": []
  }
 ],
 "metadata": {
  "celltoolbar": "Edit Metadata",
  "kernelspec": {
   "display_name": "Python 3",
   "language": "python",
   "name": "python3"
  },
  "language_info": {
   "codemirror_mode": {
    "name": "ipython",
    "version": 3
   },
   "file_extension": ".py",
   "mimetype": "text/x-python",
   "name": "python",
   "nbconvert_exporter": "python",
   "pygments_lexer": "ipython3",
   "version": "3.7.3"
  }
 },
 "nbformat": 4,
 "nbformat_minor": 2
}
