{
 "cells": [
  {
   "cell_type": "markdown",
   "metadata": {},
   "source": [
    "[//]: # (Long-Title: Cartesian Product Identities: Cross Product of Sets, DeMorgan's Laws Proof )\n",
    "\n",
    "[//]: # (Short-Title:Cartesian Product Identities)\n",
    "\n",
    "[//]: # (Keyword: Cartesian Product)\n",
    "\n",
    "[//]: # (Keyword: Cross Product)\n",
    "\n",
    "[//]: # (Keyword: DeMorgan's Laws)\n",
    "\n",
    "[//]: # (Keyword: DeMorgan's Laws Proof)\n"
   ]
  },
  {
   "cell_type": "markdown",
   "metadata": {},
   "source": [
    "### Cartesian Product Identities\n",
    "\n",
    "Let A,B and C be arbitrary finite sets. <br> <br>\n",
    "\n",
    "$$A \\times \\emptyset = \\emptyset \\times A=\\emptyset $$ <br> \n",
    "\n",
    "$$A\\times\\left (B \\cup C \\right )=\\left ( A\\times B \\right ) \\cup \\left ( A \\times C \\right )$$ <br> \n",
    "\n",
    "$$A \\times \\left ( B\\cap C \\right )=\\left ( A \\times B \\right ) \\cap \\left ( A \\times C \\right )$$ <br> \n",
    "\n",
    "$$A \\times \\left(B \\setminus C \\right)=\\left ( A \\times B \\right ) \\setminus \\left ( A \\times C \\right )$$ <br> <br>\n",
    "\n",
    "We can generalize DeMorgan's laws to any number of sets <br>\n",
    "\n",
    "$$\\Big(\\bigcup_{n} \\large{S}_n\\Big)^c = \\bigcap_n \\large{S}_n^c$$ <br>\n",
    "\n",
    "$$\\Big(\\bigcap_{n} \\large{S}_{n}\\Big)^c = \\bigcup_n \\large{S}_n^c$$ <br>\n",
    "\n",
    "where $\\large{S}_n$ $\\text{ for } n=1,2,3,\\ldots$, are arbitrary sets. <br> <br>\n",
    "\n",
    "Formal proof of DeMorgan's laws <br> <br>\n",
    "\n",
    "$$\\left ( A\\cap B\\right )^c=A^{c}\\cup B^{^{c}}$$ <br> <br>\n",
    "Consider RHS: <br> <br>\n",
    "\n",
    "$$\\begin{aligned} x \\in \\left ( A\\cap B \\right )^c &\\Leftrightarrow x\\notin \\left ( A\\cap B \\right ) \\\\ \\\\\n",
    "&\\Leftrightarrow x\\notin A\\,or\\,  x\\notin B \\\\ \\\\\n",
    "&\\Leftrightarrow x\\in A^c \\text{ or } x\\in B^c \\\\ \\\\\n",
    "&\\Leftrightarrow x\\in A^{c}\\cup B^{c} \\end{aligned}$$ <br>"
   ]
  },
  {
   "cell_type": "code",
   "execution_count": null,
   "metadata": {},
   "outputs": [],
   "source": []
  }
 ],
 "metadata": {
  "celltoolbar": "Edit Metadata",
  "kernelspec": {
   "display_name": "Python 3",
   "language": "python",
   "name": "python3"
  },
  "language_info": {
   "codemirror_mode": {
    "name": "ipython",
    "version": 3
   },
   "file_extension": ".py",
   "mimetype": "text/x-python",
   "name": "python",
   "nbconvert_exporter": "python",
   "pygments_lexer": "ipython3",
   "version": "3.7.3"
  }
 },
 "nbformat": 4,
 "nbformat_minor": 2
}
