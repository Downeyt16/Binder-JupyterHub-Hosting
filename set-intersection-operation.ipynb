{
 "cells": [
  {
   "cell_type": "markdown",
   "metadata": {},
   "source": [
    "\n",
    "[//]: # (Long-Title: Set Intersection Operation: Definition, Intersection of Two Sets, Intersection of Null set, and Venn Diagram for Set Intersection )\n",
    "\n",
    "[//]: # (Short-Title: Set Intersection)\n",
    "\n",
    "[//]: # (Keyword: Set Intersection)\n",
    "\n",
    "[//]: # (Keyword: Intersection of Null Set)\n",
    "\n",
    "[//]: # (Keyword: Venn Diagram for Set Intersection)\n",
    "\n",
    "\n",
    "\n"
   ]
  },
  {
   "cell_type": "markdown",
   "metadata": {},
   "source": [
    "## Set Intersection Operation\n",
    "\n",
    "The intersection of two sets $A$ and $B$ is a set which contains elements that are in both the sets. <br>\n",
    "\n",
    "The intersection of two sets $A$ and $B$ is denoted by $A \\cap B$ <br> <br> \n",
    "\n",
    "\n",
    "Example: <br>\n",
    "\n",
    "Let $B = \\{0,1\\}$ be the set of binary digits, and $D = \\{0,1,2,\\ldots,9\\}$ be the set of decimal digits. <br> <br>\n",
    "$B \\cap D = \\{0,1\\}$ as $0$ and $1$ are the only two elements that are present in both $B$ and $D$. <br> <br>\n",
    "\n",
    "More formally, <br>\n",
    "\n",
    "$$A\\cap B = {x \\mid x \\in A \\text{ and } x \\in B }$$ <br>\n",
    "\n",
    "Alternatively,<br>\n",
    "\n",
    "$$x \\in A \\cap B \\Leftrightarrow x \\in A \\text{ and } x \\in B$$ <br>\n",
    "    \n",
    "\n",
    "Example:<br>\n",
    "\n",
    "Let $B = \\{0,1\\}$ <br>  \n",
    "    \n",
    "What is $B \\cap \\emptyset$? <br> \n",
    "    \n",
    "Since $\\emptyset$ has no elements in it, there are no elements that are common to both $B$ and $\\emptyset$.<br>\n",
    "    \n",
    "Therefore, $B \\cap \\emptyset = \\emptyset$ <br> <br>\n",
    "    \n",
    "    \n",
    "\n",
    "## Venn diagram for set intersection\n",
    "\n",
    "Figure below shows the Venn diagram for intersection of sets $A$ and $B$. The intersection in the shaded area. <br>\n",
    "\n",
    "<img src=\"F6.png\" alt=\"drawing\" width=\"333px\">\n"
   ]
  },
  {
   "cell_type": "code",
   "execution_count": null,
   "metadata": {},
   "outputs": [],
   "source": []
  }
 ],
 "metadata": {
  "celltoolbar": "Edit Metadata",
  "kernelspec": {
   "display_name": "Python 3",
   "language": "python",
   "name": "python3"
  },
  "language_info": {
   "codemirror_mode": {
    "name": "ipython",
    "version": 3
   },
   "file_extension": ".py",
   "mimetype": "text/x-python",
   "name": "python",
   "nbconvert_exporter": "python",
   "pygments_lexer": "ipython3",
   "version": "3.7.3"
  }
 },
 "nbformat": 4,
 "nbformat_minor": 2
}
